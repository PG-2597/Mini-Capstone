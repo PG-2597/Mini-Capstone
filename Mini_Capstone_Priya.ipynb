{
  "nbformat": 4,
  "nbformat_minor": 0,
  "metadata": {
    "colab": {
      "name": "Mini Capstone_week10_Priya Gupta.ipynb",
      "provenance": [],
      "collapsed_sections": [],
      "authorship_tag": "ABX9TyNDo5p1sAjq0OWOW5vnZE2h",
      "include_colab_link": true
    },
    "kernelspec": {
      "name": "python3",
      "display_name": "Python 3"
    },
    "language_info": {
      "name": "python"
    }
  },
  "cells": [
    {
      "cell_type": "markdown",
      "metadata": {
        "id": "view-in-github",
        "colab_type": "text"
      },
      "source": [
        "<a href=\"https://colab.research.google.com/github/PG-2597/Mini-Capstone/blob/main/Mini_Capstone_week10_Priya_Gupta.ipynb\" target=\"_parent\"><img src=\"https://colab.research.google.com/assets/colab-badge.svg\" alt=\"Open In Colab\"/></a>"
      ]
    },
    {
      "cell_type": "markdown",
      "source": [
        "## **MINI CAPSTONE PROJECT on Telco_Customer_Churn DATABASE**"
      ],
      "metadata": {
        "id": "IBAly48Sc4lh"
      }
    },
    {
      "cell_type": "markdown",
      "source": [
        "## **Introduction to Dataset:-**"
      ],
      "metadata": {
        "id": "wr47ZB_4diab"
      }
    },
    {
      "cell_type": "markdown",
      "source": [
        "Telco_customer_churn dataset is the database of a fictional telco company that provided home phone and Internet services to 7043 customers in California in Quarter 3 of the fiscal year.\n",
        "\n",
        "\n",
        "---\n",
        "\n",
        "\n",
        "***There are 7043 0bservations as mentioned above and 33 variables which are described below:-***\n",
        "\n",
        "\n",
        "*   **CustomerID:** A unique ID that identifies each customer.\n",
        "*     **Count:** A value used in reporting/dashboarding to sum up the number of customers in a filtered set.\n",
        "*   **Country:** The country of the customer’s primary residence.\n",
        "\n",
        "*   **State:** The state of the customer’s primary residence.\n",
        "\n",
        "*  **City:** The city of the customer’s primary residence.\n",
        "\n",
        "*   **Zip Code:** The zip code of the customer’s primary residence.\n",
        "\n",
        "*   **Lat Long:** The combined latitude and longitude of the customer’s primary residence.\n",
        "*   **Latitude:** The latitude of the customer’s primary residence.\n",
        "\n",
        "*   **Longitude:** The longitude of the customer’s primary residence.\n",
        "\n",
        "*   **Gender:** The customer’s gender: Male, Female\n",
        "\n",
        "*   **Senior Citizen:** Indicates if the customer is 65 or older: Yes, No\n",
        "*   **Partner:** Indicate if the customer has a partner: Yes, No\n",
        "\n",
        "*   **Dependents:** Indicates if the customer lives with any dependents: Yes, No. Dependents could be children, parents, grandparents, etc.\n",
        "\n",
        "*   **Tenure Months:** Indicates the total amount of months that the customer has been with the company by the end of the quarter specified above.\n",
        "*   **Phone Service:** Indicates if the customer subscribes to home phone service with the company: Yes, No\n",
        "\n",
        "* **Multiple Lines:** Indicates if the customer subscribes to multiple telephone lines with the company: Yes, No\n",
        "* **Internet Service:** Indicates if the customer subscribes to Internet service with the company: No, DSL, Fiber Optic, Cable.\n",
        "* **Online Security:** Indicates if the customer subscribes to an additional online security service provided by the company: Yes, No\n",
        "* **Online Backup:** Indicates if the customer subscribes to an additional online backup service provided by the company: Yes, No\n",
        "* **Device Protection:** Indicates if the customer subscribes to an additional device protection plan for their Internet equipment provided by the company: Yes, No\n",
        "* **Tech Support:** Indicates if the customer subscribes to an additional technical support plan from the company with reduced wait times: Yes, No\n",
        "* **Streaming TV:** Indicates if the customer uses their Internet service to stream television programming from a third party provider: Yes, No. The company does not charge an additional fee for this service.\n",
        "* **Streaming Movies:** Indicates if the customer uses their Internet service to stream movies from a third party provider: Yes, No. The company does not charge an additional fee for this service.\n",
        "* **Contract:** Indicates the customer’s current contract type: Month-to-Month, One Year, Two Year.\n",
        "* **Paperless Billing:** Indicates if the customer has chosen paperless billing: Yes, No\n",
        "* **Payment Method:** Indicates how the customer pays their bill: Bank Withdrawal, Credit Card, Mailed Check\n",
        "* **Monthly Charge:** Indicates the customer’s current total monthly charge for all their services from the company.\n",
        "* **Total Charges:** Indicates the customer’s total charges, calculated to the end of the quarter specified above.\n",
        "* **Churn Label:** Yes = the customer left the company this quarter. No = the customer remained with the company. Directly related to Churn Value.\n",
        "* **Churn Value:** 1 = the customer left the company this quarter. 0 = the customer remained with the company. Directly related to Churn Label.\n",
        "* **Churn Score:** A value from 0-100 that is calculated using the predictive tool IBM SPSS Modeler. The model incorporates multiple factors known to cause churn. The higher the score, the more likely the customer will churn.\n",
        "* **CLTV:** Customer Lifetime Value. A predicted CLTV is calculated using corporate formulas and existing data. The higher the value, the more valuable the customer. High value customers should be monitored for churn.\n",
        "* **Churn Reason:** A customer’s specific reason for leaving the company. Directly related to Churn Category.\n",
        "\n",
        "\n",
        "---\n",
        "\n"
      ],
      "metadata": {
        "id": "H6-_dMoyd0WA"
      }
    },
    {
      "cell_type": "markdown",
      "source": [
        "**Understanding of Dataset:**\n",
        "\n",
        "In the above dataset almost all columns are self explanatory and can be easily understandable except churn label and churn value. \n",
        "\n",
        "Customer churn is a concept used to describe how well or poorly a company keeps hold of the customers it acquires. There can be various reasons for a customer to churn which is described in Churn Reason column. Churn label column represents if the customer left the company in 3rd quarter of fiscal year or they continue the services they are getting from the company. Based on the churn label a value either 1 or 0 is assign to the customer which is stored in churn value column.\n",
        "\n",
        "Rest of the columns are easily understandable."
      ],
      "metadata": {
        "id": "hpDlLYZ9kK-h"
      }
    },
    {
      "cell_type": "markdown",
      "source": [
        "**Importing Necessary Libraries:**"
      ],
      "metadata": {
        "id": "7yhJcQWdngJZ"
      }
    },
    {
      "cell_type": "code",
      "source": [
        "import numpy as np                #NumPy is a general-purpose array-processing package and deals with numerical values and arrays.\n",
        "import pandas as pd               #pandas library deals with dataframes.\n",
        "import matplotlib.pyplot as plt   # plt is an abbreviation of pyplot and built on NumPy arrays and use for data visualization.\n",
        "import seaborn as sns             #for visualization of statistical graphs"
      ],
      "metadata": {
        "id": "D2MZtoVgnnKE"
      },
      "execution_count": 1,
      "outputs": []
    },
    {
      "cell_type": "markdown",
      "source": [
        "**Importing the dataset:**"
      ],
      "metadata": {
        "id": "-0rIY44rn1Ko"
      }
    },
    {
      "cell_type": "code",
      "source": [
        "from google.colab import files\n",
        "uploaded=files.upload()"
      ],
      "metadata": {
        "colab": {
          "resources": {
            "http://localhost:8080/nbextensions/google.colab/files.js": {
              "data": "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",
              "ok": true,
              "headers": [
                [
                  "content-type",
                  "application/javascript"
                ]
              ],
              "status": 200,
              "status_text": ""
            }
          },
          "base_uri": "https://localhost:8080/",
          "height": 91
        },
        "id": "-olzNMpAn6sh",
        "outputId": "b123c029-238b-4a6b-9885-240732a9ea54"
      },
      "execution_count": 2,
      "outputs": [
        {
          "output_type": "display_data",
          "data": {
            "text/plain": [
              "<IPython.core.display.HTML object>"
            ],
            "text/html": [
              "\n",
              "     <input type=\"file\" id=\"files-5a89a7e4-be3e-4528-a6c6-bc1828d81556\" name=\"files[]\" multiple disabled\n",
              "        style=\"border:none\" />\n",
              "     <output id=\"result-5a89a7e4-be3e-4528-a6c6-bc1828d81556\">\n",
              "      Upload widget is only available when the cell has been executed in the\n",
              "      current browser session. Please rerun this cell to enable.\n",
              "      </output>\n",
              "      <script src=\"/nbextensions/google.colab/files.js\"></script> "
            ]
          },
          "metadata": {}
        },
        {
          "output_type": "stream",
          "name": "stdout",
          "text": [
            "Saving Telco_customer_churn.xlsx to Telco_customer_churn (1).xlsx\n"
          ]
        }
      ]
    },
    {
      "cell_type": "markdown",
      "source": [
        "### Reading the file:-"
      ],
      "metadata": {
        "id": "5AqWiYP7o6V4"
      }
    },
    {
      "cell_type": "code",
      "source": [
        "import io\n",
        "df=pd.read_excel(io.BytesIO(uploaded['Telco_customer_churn.xlsx']))\n",
        "df"
      ],
      "metadata": {
        "colab": {
          "base_uri": "https://localhost:8080/",
          "height": 748
        },
        "id": "-HupmTsOoyNz",
        "outputId": "565d17af-8573-4cf7-a84f-4508296f8b6e"
      },
      "execution_count": 3,
      "outputs": [
        {
          "output_type": "execute_result",
          "data": {
            "text/plain": [
              "      CustomerID  Count        Country       State          City  Zip Code  \\\n",
              "0     3668-QPYBK    1.0  United States  California   Los Angeles   90003.0   \n",
              "1     9237-HQITU    1.0  United States  California   Los Angeles   90005.0   \n",
              "2     9305-CDSKC    1.0  United States  California   Los Angeles   90006.0   \n",
              "3     7892-POOKP    1.0  United States  California   Los Angeles   90010.0   \n",
              "4     0280-XJGEX    1.0  United States  California   Los Angeles   90015.0   \n",
              "...          ...    ...            ...         ...           ...       ...   \n",
              "7038  2569-WGERO    1.0  United States  California       Landers   92285.0   \n",
              "7039  6840-RESVB    1.0  United States  California      Adelanto   92301.0   \n",
              "7040  2234-XADUH    1.0  United States  California         Amboy   92304.0   \n",
              "7041  4801-JZAZL    1.0  United States  California  Angelus Oaks   92305.0   \n",
              "7042  3186-AJIEK    1.0  United States  California  Apple Valley   92308.0   \n",
              "\n",
              "                    Lat Long   Latitude   Longitude  Gender  ...  \\\n",
              "0     33.964131, -118.272783  33.964131 -118.272783    Male  ...   \n",
              "1      34.059281, -118.30742  34.059281 -118.307420  Female  ...   \n",
              "2     34.048013, -118.293953  34.048013 -118.293953  Female  ...   \n",
              "3     34.062125, -118.315709  34.062125 -118.315709  Female  ...   \n",
              "4     34.039224, -118.266293  34.039224 -118.266293    Male  ...   \n",
              "...                      ...        ...         ...     ...  ...   \n",
              "7038  34.341737, -116.539416  34.341737 -116.539416  Female  ...   \n",
              "7039  34.667815, -117.536183  34.667815 -117.536183    Male  ...   \n",
              "7040  34.559882, -115.637164  34.559882 -115.637164  Female  ...   \n",
              "7041     34.1678, -116.86433  34.167800 -116.864330  Female  ...   \n",
              "7042  34.424926, -117.184503  34.424926 -117.184503    Male  ...   \n",
              "\n",
              "            Contract Paperless Billing             Payment Method  \\\n",
              "0     Month-to-month               Yes               Mailed check   \n",
              "1     Month-to-month               Yes           Electronic check   \n",
              "2     Month-to-month               Yes           Electronic check   \n",
              "3     Month-to-month               Yes           Electronic check   \n",
              "4     Month-to-month               Yes  Bank transfer (automatic)   \n",
              "...              ...               ...                        ...   \n",
              "7038        Two year               Yes  Bank transfer (automatic)   \n",
              "7039        One year               Yes               Mailed check   \n",
              "7040        One year               Yes    Credit card (automatic)   \n",
              "7041  Month-to-month               Yes           Electronic check   \n",
              "7042        Two year               Yes  Bank transfer (automatic)   \n",
              "\n",
              "      Monthly Charges Total Charges Churn Label Churn Value Churn Score  \\\n",
              "0               53.85        108.15         Yes         1.0        86.0   \n",
              "1               70.70        151.65         Yes         1.0        67.0   \n",
              "2               99.65         820.5         Yes         1.0        86.0   \n",
              "3              104.80       3046.05         Yes         1.0        84.0   \n",
              "4              103.70        5036.3         Yes         1.0        89.0   \n",
              "...               ...           ...         ...         ...         ...   \n",
              "7038            21.15        1419.4          No         0.0        45.0   \n",
              "7039            84.80        1990.5          No         0.0        59.0   \n",
              "7040           103.20        7362.9          No         0.0        71.0   \n",
              "7041            29.60        346.45          No         0.0        59.0   \n",
              "7042           105.65        6844.5          No         0.0        38.0   \n",
              "\n",
              "        CLTV                   Churn Reason  \n",
              "0     3239.0   Competitor made better offer  \n",
              "1     2701.0                          Moved  \n",
              "2     5372.0                          Moved  \n",
              "3     5003.0                          Moved  \n",
              "4     5340.0  Competitor had better devices  \n",
              "...      ...                            ...  \n",
              "7038  5306.0                            NaN  \n",
              "7039  2140.0                            NaN  \n",
              "7040  5560.0                            NaN  \n",
              "7041  2793.0                            NaN  \n",
              "7042  5097.0                            NaN  \n",
              "\n",
              "[7043 rows x 33 columns]"
            ],
            "text/html": [
              "\n",
              "  <div id=\"df-d9bef28d-7074-4b98-9825-dfb6793b75ea\">\n",
              "    <div class=\"colab-df-container\">\n",
              "      <div>\n",
              "<style scoped>\n",
              "    .dataframe tbody tr th:only-of-type {\n",
              "        vertical-align: middle;\n",
              "    }\n",
              "\n",
              "    .dataframe tbody tr th {\n",
              "        vertical-align: top;\n",
              "    }\n",
              "\n",
              "    .dataframe thead th {\n",
              "        text-align: right;\n",
              "    }\n",
              "</style>\n",
              "<table border=\"1\" class=\"dataframe\">\n",
              "  <thead>\n",
              "    <tr style=\"text-align: right;\">\n",
              "      <th></th>\n",
              "      <th>CustomerID</th>\n",
              "      <th>Count</th>\n",
              "      <th>Country</th>\n",
              "      <th>State</th>\n",
              "      <th>City</th>\n",
              "      <th>Zip Code</th>\n",
              "      <th>Lat Long</th>\n",
              "      <th>Latitude</th>\n",
              "      <th>Longitude</th>\n",
              "      <th>Gender</th>\n",
              "      <th>...</th>\n",
              "      <th>Contract</th>\n",
              "      <th>Paperless Billing</th>\n",
              "      <th>Payment Method</th>\n",
              "      <th>Monthly Charges</th>\n",
              "      <th>Total Charges</th>\n",
              "      <th>Churn Label</th>\n",
              "      <th>Churn Value</th>\n",
              "      <th>Churn Score</th>\n",
              "      <th>CLTV</th>\n",
              "      <th>Churn Reason</th>\n",
              "    </tr>\n",
              "  </thead>\n",
              "  <tbody>\n",
              "    <tr>\n",
              "      <th>0</th>\n",
              "      <td>3668-QPYBK</td>\n",
              "      <td>1.0</td>\n",
              "      <td>United States</td>\n",
              "      <td>California</td>\n",
              "      <td>Los Angeles</td>\n",
              "      <td>90003.0</td>\n",
              "      <td>33.964131, -118.272783</td>\n",
              "      <td>33.964131</td>\n",
              "      <td>-118.272783</td>\n",
              "      <td>Male</td>\n",
              "      <td>...</td>\n",
              "      <td>Month-to-month</td>\n",
              "      <td>Yes</td>\n",
              "      <td>Mailed check</td>\n",
              "      <td>53.85</td>\n",
              "      <td>108.15</td>\n",
              "      <td>Yes</td>\n",
              "      <td>1.0</td>\n",
              "      <td>86.0</td>\n",
              "      <td>3239.0</td>\n",
              "      <td>Competitor made better offer</td>\n",
              "    </tr>\n",
              "    <tr>\n",
              "      <th>1</th>\n",
              "      <td>9237-HQITU</td>\n",
              "      <td>1.0</td>\n",
              "      <td>United States</td>\n",
              "      <td>California</td>\n",
              "      <td>Los Angeles</td>\n",
              "      <td>90005.0</td>\n",
              "      <td>34.059281, -118.30742</td>\n",
              "      <td>34.059281</td>\n",
              "      <td>-118.307420</td>\n",
              "      <td>Female</td>\n",
              "      <td>...</td>\n",
              "      <td>Month-to-month</td>\n",
              "      <td>Yes</td>\n",
              "      <td>Electronic check</td>\n",
              "      <td>70.70</td>\n",
              "      <td>151.65</td>\n",
              "      <td>Yes</td>\n",
              "      <td>1.0</td>\n",
              "      <td>67.0</td>\n",
              "      <td>2701.0</td>\n",
              "      <td>Moved</td>\n",
              "    </tr>\n",
              "    <tr>\n",
              "      <th>2</th>\n",
              "      <td>9305-CDSKC</td>\n",
              "      <td>1.0</td>\n",
              "      <td>United States</td>\n",
              "      <td>California</td>\n",
              "      <td>Los Angeles</td>\n",
              "      <td>90006.0</td>\n",
              "      <td>34.048013, -118.293953</td>\n",
              "      <td>34.048013</td>\n",
              "      <td>-118.293953</td>\n",
              "      <td>Female</td>\n",
              "      <td>...</td>\n",
              "      <td>Month-to-month</td>\n",
              "      <td>Yes</td>\n",
              "      <td>Electronic check</td>\n",
              "      <td>99.65</td>\n",
              "      <td>820.5</td>\n",
              "      <td>Yes</td>\n",
              "      <td>1.0</td>\n",
              "      <td>86.0</td>\n",
              "      <td>5372.0</td>\n",
              "      <td>Moved</td>\n",
              "    </tr>\n",
              "    <tr>\n",
              "      <th>3</th>\n",
              "      <td>7892-POOKP</td>\n",
              "      <td>1.0</td>\n",
              "      <td>United States</td>\n",
              "      <td>California</td>\n",
              "      <td>Los Angeles</td>\n",
              "      <td>90010.0</td>\n",
              "      <td>34.062125, -118.315709</td>\n",
              "      <td>34.062125</td>\n",
              "      <td>-118.315709</td>\n",
              "      <td>Female</td>\n",
              "      <td>...</td>\n",
              "      <td>Month-to-month</td>\n",
              "      <td>Yes</td>\n",
              "      <td>Electronic check</td>\n",
              "      <td>104.80</td>\n",
              "      <td>3046.05</td>\n",
              "      <td>Yes</td>\n",
              "      <td>1.0</td>\n",
              "      <td>84.0</td>\n",
              "      <td>5003.0</td>\n",
              "      <td>Moved</td>\n",
              "    </tr>\n",
              "    <tr>\n",
              "      <th>4</th>\n",
              "      <td>0280-XJGEX</td>\n",
              "      <td>1.0</td>\n",
              "      <td>United States</td>\n",
              "      <td>California</td>\n",
              "      <td>Los Angeles</td>\n",
              "      <td>90015.0</td>\n",
              "      <td>34.039224, -118.266293</td>\n",
              "      <td>34.039224</td>\n",
              "      <td>-118.266293</td>\n",
              "      <td>Male</td>\n",
              "      <td>...</td>\n",
              "      <td>Month-to-month</td>\n",
              "      <td>Yes</td>\n",
              "      <td>Bank transfer (automatic)</td>\n",
              "      <td>103.70</td>\n",
              "      <td>5036.3</td>\n",
              "      <td>Yes</td>\n",
              "      <td>1.0</td>\n",
              "      <td>89.0</td>\n",
              "      <td>5340.0</td>\n",
              "      <td>Competitor had better devices</td>\n",
              "    </tr>\n",
              "    <tr>\n",
              "      <th>...</th>\n",
              "      <td>...</td>\n",
              "      <td>...</td>\n",
              "      <td>...</td>\n",
              "      <td>...</td>\n",
              "      <td>...</td>\n",
              "      <td>...</td>\n",
              "      <td>...</td>\n",
              "      <td>...</td>\n",
              "      <td>...</td>\n",
              "      <td>...</td>\n",
              "      <td>...</td>\n",
              "      <td>...</td>\n",
              "      <td>...</td>\n",
              "      <td>...</td>\n",
              "      <td>...</td>\n",
              "      <td>...</td>\n",
              "      <td>...</td>\n",
              "      <td>...</td>\n",
              "      <td>...</td>\n",
              "      <td>...</td>\n",
              "      <td>...</td>\n",
              "    </tr>\n",
              "    <tr>\n",
              "      <th>7038</th>\n",
              "      <td>2569-WGERO</td>\n",
              "      <td>1.0</td>\n",
              "      <td>United States</td>\n",
              "      <td>California</td>\n",
              "      <td>Landers</td>\n",
              "      <td>92285.0</td>\n",
              "      <td>34.341737, -116.539416</td>\n",
              "      <td>34.341737</td>\n",
              "      <td>-116.539416</td>\n",
              "      <td>Female</td>\n",
              "      <td>...</td>\n",
              "      <td>Two year</td>\n",
              "      <td>Yes</td>\n",
              "      <td>Bank transfer (automatic)</td>\n",
              "      <td>21.15</td>\n",
              "      <td>1419.4</td>\n",
              "      <td>No</td>\n",
              "      <td>0.0</td>\n",
              "      <td>45.0</td>\n",
              "      <td>5306.0</td>\n",
              "      <td>NaN</td>\n",
              "    </tr>\n",
              "    <tr>\n",
              "      <th>7039</th>\n",
              "      <td>6840-RESVB</td>\n",
              "      <td>1.0</td>\n",
              "      <td>United States</td>\n",
              "      <td>California</td>\n",
              "      <td>Adelanto</td>\n",
              "      <td>92301.0</td>\n",
              "      <td>34.667815, -117.536183</td>\n",
              "      <td>34.667815</td>\n",
              "      <td>-117.536183</td>\n",
              "      <td>Male</td>\n",
              "      <td>...</td>\n",
              "      <td>One year</td>\n",
              "      <td>Yes</td>\n",
              "      <td>Mailed check</td>\n",
              "      <td>84.80</td>\n",
              "      <td>1990.5</td>\n",
              "      <td>No</td>\n",
              "      <td>0.0</td>\n",
              "      <td>59.0</td>\n",
              "      <td>2140.0</td>\n",
              "      <td>NaN</td>\n",
              "    </tr>\n",
              "    <tr>\n",
              "      <th>7040</th>\n",
              "      <td>2234-XADUH</td>\n",
              "      <td>1.0</td>\n",
              "      <td>United States</td>\n",
              "      <td>California</td>\n",
              "      <td>Amboy</td>\n",
              "      <td>92304.0</td>\n",
              "      <td>34.559882, -115.637164</td>\n",
              "      <td>34.559882</td>\n",
              "      <td>-115.637164</td>\n",
              "      <td>Female</td>\n",
              "      <td>...</td>\n",
              "      <td>One year</td>\n",
              "      <td>Yes</td>\n",
              "      <td>Credit card (automatic)</td>\n",
              "      <td>103.20</td>\n",
              "      <td>7362.9</td>\n",
              "      <td>No</td>\n",
              "      <td>0.0</td>\n",
              "      <td>71.0</td>\n",
              "      <td>5560.0</td>\n",
              "      <td>NaN</td>\n",
              "    </tr>\n",
              "    <tr>\n",
              "      <th>7041</th>\n",
              "      <td>4801-JZAZL</td>\n",
              "      <td>1.0</td>\n",
              "      <td>United States</td>\n",
              "      <td>California</td>\n",
              "      <td>Angelus Oaks</td>\n",
              "      <td>92305.0</td>\n",
              "      <td>34.1678, -116.86433</td>\n",
              "      <td>34.167800</td>\n",
              "      <td>-116.864330</td>\n",
              "      <td>Female</td>\n",
              "      <td>...</td>\n",
              "      <td>Month-to-month</td>\n",
              "      <td>Yes</td>\n",
              "      <td>Electronic check</td>\n",
              "      <td>29.60</td>\n",
              "      <td>346.45</td>\n",
              "      <td>No</td>\n",
              "      <td>0.0</td>\n",
              "      <td>59.0</td>\n",
              "      <td>2793.0</td>\n",
              "      <td>NaN</td>\n",
              "    </tr>\n",
              "    <tr>\n",
              "      <th>7042</th>\n",
              "      <td>3186-AJIEK</td>\n",
              "      <td>1.0</td>\n",
              "      <td>United States</td>\n",
              "      <td>California</td>\n",
              "      <td>Apple Valley</td>\n",
              "      <td>92308.0</td>\n",
              "      <td>34.424926, -117.184503</td>\n",
              "      <td>34.424926</td>\n",
              "      <td>-117.184503</td>\n",
              "      <td>Male</td>\n",
              "      <td>...</td>\n",
              "      <td>Two year</td>\n",
              "      <td>Yes</td>\n",
              "      <td>Bank transfer (automatic)</td>\n",
              "      <td>105.65</td>\n",
              "      <td>6844.5</td>\n",
              "      <td>No</td>\n",
              "      <td>0.0</td>\n",
              "      <td>38.0</td>\n",
              "      <td>5097.0</td>\n",
              "      <td>NaN</td>\n",
              "    </tr>\n",
              "  </tbody>\n",
              "</table>\n",
              "<p>7043 rows × 33 columns</p>\n",
              "</div>\n",
              "      <button class=\"colab-df-convert\" onclick=\"convertToInteractive('df-d9bef28d-7074-4b98-9825-dfb6793b75ea')\"\n",
              "              title=\"Convert this dataframe to an interactive table.\"\n",
              "              style=\"display:none;\">\n",
              "        \n",
              "  <svg xmlns=\"http://www.w3.org/2000/svg\" height=\"24px\"viewBox=\"0 0 24 24\"\n",
              "       width=\"24px\">\n",
              "    <path d=\"M0 0h24v24H0V0z\" fill=\"none\"/>\n",
              "    <path d=\"M18.56 5.44l.94 2.06.94-2.06 2.06-.94-2.06-.94-.94-2.06-.94 2.06-2.06.94zm-11 1L8.5 8.5l.94-2.06 2.06-.94-2.06-.94L8.5 2.5l-.94 2.06-2.06.94zm10 10l.94 2.06.94-2.06 2.06-.94-2.06-.94-.94-2.06-.94 2.06-2.06.94z\"/><path d=\"M17.41 7.96l-1.37-1.37c-.4-.4-.92-.59-1.43-.59-.52 0-1.04.2-1.43.59L10.3 9.45l-7.72 7.72c-.78.78-.78 2.05 0 2.83L4 21.41c.39.39.9.59 1.41.59.51 0 1.02-.2 1.41-.59l7.78-7.78 2.81-2.81c.8-.78.8-2.07 0-2.86zM5.41 20L4 18.59l7.72-7.72 1.47 1.35L5.41 20z\"/>\n",
              "  </svg>\n",
              "      </button>\n",
              "      \n",
              "  <style>\n",
              "    .colab-df-container {\n",
              "      display:flex;\n",
              "      flex-wrap:wrap;\n",
              "      gap: 12px;\n",
              "    }\n",
              "\n",
              "    .colab-df-convert {\n",
              "      background-color: #E8F0FE;\n",
              "      border: none;\n",
              "      border-radius: 50%;\n",
              "      cursor: pointer;\n",
              "      display: none;\n",
              "      fill: #1967D2;\n",
              "      height: 32px;\n",
              "      padding: 0 0 0 0;\n",
              "      width: 32px;\n",
              "    }\n",
              "\n",
              "    .colab-df-convert:hover {\n",
              "      background-color: #E2EBFA;\n",
              "      box-shadow: 0px 1px 2px rgba(60, 64, 67, 0.3), 0px 1px 3px 1px rgba(60, 64, 67, 0.15);\n",
              "      fill: #174EA6;\n",
              "    }\n",
              "\n",
              "    [theme=dark] .colab-df-convert {\n",
              "      background-color: #3B4455;\n",
              "      fill: #D2E3FC;\n",
              "    }\n",
              "\n",
              "    [theme=dark] .colab-df-convert:hover {\n",
              "      background-color: #434B5C;\n",
              "      box-shadow: 0px 1px 3px 1px rgba(0, 0, 0, 0.15);\n",
              "      filter: drop-shadow(0px 1px 2px rgba(0, 0, 0, 0.3));\n",
              "      fill: #FFFFFF;\n",
              "    }\n",
              "  </style>\n",
              "\n",
              "      <script>\n",
              "        const buttonEl =\n",
              "          document.querySelector('#df-d9bef28d-7074-4b98-9825-dfb6793b75ea button.colab-df-convert');\n",
              "        buttonEl.style.display =\n",
              "          google.colab.kernel.accessAllowed ? 'block' : 'none';\n",
              "\n",
              "        async function convertToInteractive(key) {\n",
              "          const element = document.querySelector('#df-d9bef28d-7074-4b98-9825-dfb6793b75ea');\n",
              "          const dataTable =\n",
              "            await google.colab.kernel.invokeFunction('convertToInteractive',\n",
              "                                                     [key], {});\n",
              "          if (!dataTable) return;\n",
              "\n",
              "          const docLinkHtml = 'Like what you see? Visit the ' +\n",
              "            '<a target=\"_blank\" href=https://colab.research.google.com/notebooks/data_table.ipynb>data table notebook</a>'\n",
              "            + ' to learn more about interactive tables.';\n",
              "          element.innerHTML = '';\n",
              "          dataTable['output_type'] = 'display_data';\n",
              "          await google.colab.output.renderOutput(dataTable, element);\n",
              "          const docLink = document.createElement('div');\n",
              "          docLink.innerHTML = docLinkHtml;\n",
              "          element.appendChild(docLink);\n",
              "        }\n",
              "      </script>\n",
              "    </div>\n",
              "  </div>\n",
              "  "
            ]
          },
          "metadata": {},
          "execution_count": 3
        }
      ]
    },
    {
      "cell_type": "markdown",
      "source": [
        "**Explanation:** Firstly, I import io module which allows me to manage the file related input and output operations.\n",
        "\n",
        "Then, I read the excel file and load the data into a df dataframe. After that, I displayed the dataset."
      ],
      "metadata": {
        "id": "K-w8oGKKpnZT"
      }
    },
    {
      "cell_type": "markdown",
      "source": [
        "## Exploring the dataset"
      ],
      "metadata": {
        "id": "E6L7bqqOpN-F"
      }
    },
    {
      "cell_type": "code",
      "source": [
        "df.info()    #to get the schema of our dataset, like number of rows, number of columns and their data types."
      ],
      "metadata": {
        "colab": {
          "base_uri": "https://localhost:8080/"
        },
        "id": "8A04QZMdWMvO",
        "outputId": "754f50e3-6627-485a-a08b-1c45a0621ab4"
      },
      "execution_count": 4,
      "outputs": [
        {
          "output_type": "stream",
          "name": "stdout",
          "text": [
            "<class 'pandas.core.frame.DataFrame'>\n",
            "RangeIndex: 7043 entries, 0 to 7042\n",
            "Data columns (total 33 columns):\n",
            " #   Column             Non-Null Count  Dtype  \n",
            "---  ------             --------------  -----  \n",
            " 0   CustomerID         7043 non-null   object \n",
            " 1   Count              7043 non-null   float64\n",
            " 2   Country            7043 non-null   object \n",
            " 3   State              7043 non-null   object \n",
            " 4   City               7043 non-null   object \n",
            " 5   Zip Code           7043 non-null   float64\n",
            " 6   Lat Long           7043 non-null   object \n",
            " 7   Latitude           7043 non-null   float64\n",
            " 8   Longitude          7043 non-null   float64\n",
            " 9   Gender             7043 non-null   object \n",
            " 10  Senior Citizen     7043 non-null   object \n",
            " 11  Partner            7043 non-null   object \n",
            " 12  Dependents         7043 non-null   object \n",
            " 13  Tenure Months      7043 non-null   float64\n",
            " 14  Phone Service      7043 non-null   object \n",
            " 15  Multiple Lines     7043 non-null   object \n",
            " 16  Internet Service   7043 non-null   object \n",
            " 17  Online Security    7043 non-null   object \n",
            " 18  Online Backup      7043 non-null   object \n",
            " 19  Device Protection  7043 non-null   object \n",
            " 20  Tech Support       7043 non-null   object \n",
            " 21  Streaming TV       7043 non-null   object \n",
            " 22  Streaming Movies   7043 non-null   object \n",
            " 23  Contract           7043 non-null   object \n",
            " 24  Paperless Billing  7043 non-null   object \n",
            " 25  Payment Method     7043 non-null   object \n",
            " 26  Monthly Charges    7043 non-null   float64\n",
            " 27  Total Charges      7043 non-null   object \n",
            " 28  Churn Label        7043 non-null   object \n",
            " 29  Churn Value        7043 non-null   float64\n",
            " 30  Churn Score        7043 non-null   float64\n",
            " 31  CLTV               7043 non-null   float64\n",
            " 32  Churn Reason       1869 non-null   object \n",
            "dtypes: float64(9), object(24)\n",
            "memory usage: 1.8+ MB\n"
          ]
        }
      ]
    },
    {
      "cell_type": "markdown",
      "source": [
        "df.info() method also species the count of non-null values from which we can easily know how many null values are present in each column. \n",
        "\n",
        "Finding null values is one of the important step of data cleaning.\n",
        "\n",
        "**From the above output, it is clear that there are null values in Churn Reason column. So, we will replace them with a label.**"
      ],
      "metadata": {
        "id": "sCt5CTGJqrNG"
      }
    },
    {
      "cell_type": "code",
      "source": [
        "df[\"Churn Reason\"]= df[\"Churn Reason\"].fillna(\"No Reason Mentioned\")\n",
        "df[\"Churn Reason\"].unique()"
      ],
      "metadata": {
        "colab": {
          "base_uri": "https://localhost:8080/"
        },
        "id": "1CyRiwv6R-6c",
        "outputId": "6c53179a-b517-46b0-d3d8-5ceced57d911"
      },
      "execution_count": 5,
      "outputs": [
        {
          "output_type": "execute_result",
          "data": {
            "text/plain": [
              "array(['Competitor made better offer', 'Moved',\n",
              "       'Competitor had better devices',\n",
              "       'Competitor offered higher download speeds',\n",
              "       'Competitor offered more data', 'Price too high',\n",
              "       'Product dissatisfaction', 'Service dissatisfaction',\n",
              "       'Lack of self-service on Website', 'Network reliability',\n",
              "       'Limited range of services',\n",
              "       'Lack of affordable download/upload speed',\n",
              "       'Long distance charges', 'Extra data charges', \"Don't know\",\n",
              "       'Poor expertise of online support',\n",
              "       'Poor expertise of phone support', 'Attitude of service provider',\n",
              "       'Attitude of support person', 'Deceased', 'No Reason Mentioned'],\n",
              "      dtype=object)"
            ]
          },
          "metadata": {},
          "execution_count": 5
        }
      ]
    },
    {
      "cell_type": "code",
      "source": [
        "df.dtypes   #specifies the data types of each column, we can also use this method other than info method."
      ],
      "metadata": {
        "colab": {
          "base_uri": "https://localhost:8080/"
        },
        "id": "F3_EGZ4CZqa_",
        "outputId": "d8a69623-f7df-44f8-c533-fbd5d04e942f"
      },
      "execution_count": 6,
      "outputs": [
        {
          "output_type": "execute_result",
          "data": {
            "text/plain": [
              "CustomerID            object\n",
              "Count                float64\n",
              "Country               object\n",
              "State                 object\n",
              "City                  object\n",
              "Zip Code             float64\n",
              "Lat Long              object\n",
              "Latitude             float64\n",
              "Longitude            float64\n",
              "Gender                object\n",
              "Senior Citizen        object\n",
              "Partner               object\n",
              "Dependents            object\n",
              "Tenure Months        float64\n",
              "Phone Service         object\n",
              "Multiple Lines        object\n",
              "Internet Service      object\n",
              "Online Security       object\n",
              "Online Backup         object\n",
              "Device Protection     object\n",
              "Tech Support          object\n",
              "Streaming TV          object\n",
              "Streaming Movies      object\n",
              "Contract              object\n",
              "Paperless Billing     object\n",
              "Payment Method        object\n",
              "Monthly Charges      float64\n",
              "Total Charges         object\n",
              "Churn Label           object\n",
              "Churn Value          float64\n",
              "Churn Score          float64\n",
              "CLTV                 float64\n",
              "Churn Reason          object\n",
              "dtype: object"
            ]
          },
          "metadata": {},
          "execution_count": 6
        }
      ]
    },
    {
      "cell_type": "markdown",
      "source": [
        "Here we can see how Python reads numeric and non-numeric data. Numerical data is defined either as **\"integer\"** or as **\"float\"** while the non-numeric data is defined as **\"Object\"** by Python.\n",
        "\n",
        "From the above output, we can see that **\"Count\"**, **\"Zip code\"** and **\"Churn Value\"** are defined as **float** by Python when they should be **object** because they are **Nominal variables**.\n",
        "\n",
        "The data type for **Total Charges** is also wrong.So, I will use **pd.to_numeric function** to change it from object to numerical."
      ],
      "metadata": {
        "id": "pzSrRs-xsbmC"
      }
    },
    {
      "cell_type": "code",
      "source": [
        "# For correcting variables defined as float and change it to object\n",
        "\n",
        "for i in[\"Count\",\"Zip Code\",\"Churn Value\"]:\n",
        "  df[i]=df[i].astype(object)"
      ],
      "metadata": {
        "id": "-H6D7gYWVOYg"
      },
      "execution_count": 7,
      "outputs": []
    },
    {
      "cell_type": "code",
      "source": [
        "# Let's check are the data types changed or not\n",
        "\n",
        "df.dtypes[\"Count\"]\n",
        "df.dtypes[\"Churn Value\"]"
      ],
      "metadata": {
        "colab": {
          "base_uri": "https://localhost:8080/"
        },
        "id": "pzBsqVMPWllE",
        "outputId": "d9e8d138-f913-422b-b91a-1814354b4b11"
      },
      "execution_count": 12,
      "outputs": [
        {
          "output_type": "execute_result",
          "data": {
            "text/plain": [
              "dtype('O')"
            ]
          },
          "metadata": {},
          "execution_count": 12
        }
      ]
    },
    {
      "cell_type": "code",
      "source": [
        "# For changing datatype from object to numerical\n",
        "\n",
        "df['Total Charges']=pd.to_numeric(df['Total Charges'], errors='coerce')\n",
        "df.dtypes[\"Total Charges\"]"
      ],
      "metadata": {
        "colab": {
          "base_uri": "https://localhost:8080/"
        },
        "id": "Ca6eQbZ6if9_",
        "outputId": "7f797544-10e9-4487-e818-a8e358f953e5"
      },
      "execution_count": 13,
      "outputs": [
        {
          "output_type": "execute_result",
          "data": {
            "text/plain": [
              "dtype('float64')"
            ]
          },
          "metadata": {},
          "execution_count": 13
        }
      ]
    },
    {
      "cell_type": "markdown",
      "source": [
        "In total there are **26 Nominal and 7 Continous variables.**\n",
        "\n",
        "##### **Latitude, Longitude, Tenure Months, Monthly Charges, Total Charges, Churn Score and CLTV are 7 continous variables** as they can have intermediate values within a range. Rest of the 26 variables are nominal."
      ],
      "metadata": {
        "id": "GYOghBOXJUSt"
      }
    },
    {
      "cell_type": "markdown",
      "source": [
        "**Q2:Please apply appropriate statistical measures using python based on data types.**"
      ],
      "metadata": {
        "id": "sttsxGqQcKmw"
      }
    },
    {
      "cell_type": "code",
      "source": [
        "df.describe() #for all continous variables"
      ],
      "metadata": {
        "colab": {
          "base_uri": "https://localhost:8080/",
          "height": 300
        },
        "id": "ftRHG8FicCh3",
        "outputId": "8fbd50ee-66ca-4890-bbf4-3f2f14e96a6a"
      },
      "execution_count": null,
      "outputs": [
        {
          "output_type": "execute_result",
          "data": {
            "text/plain": [
              "        Count      Zip Code     Latitude    Longitude  Tenure Months  \\\n",
              "count  7043.0   7043.000000  7043.000000  7043.000000    7043.000000   \n",
              "mean      1.0  93521.964646    36.282441  -119.798880      32.371149   \n",
              "std       0.0   1865.794555     2.455723     2.157889      24.559481   \n",
              "min       1.0  90001.000000    32.555828  -124.301372       0.000000   \n",
              "25%       1.0  92102.000000    34.030915  -121.815412       9.000000   \n",
              "50%       1.0  93552.000000    36.391777  -119.730885      29.000000   \n",
              "75%       1.0  95351.000000    38.224869  -118.043237      55.000000   \n",
              "max       1.0  96161.000000    41.962127  -114.192901      72.000000   \n",
              "\n",
              "       Monthly Charges  Total Charges  Churn Value  Churn Score         CLTV  \n",
              "count      7043.000000    7032.000000  7043.000000  7043.000000  7043.000000  \n",
              "mean         64.761692    2283.300441     0.265370    58.699418  4400.295755  \n",
              "std          30.090047    2266.771362     0.441561    21.525131  1183.057152  \n",
              "min          18.250000      18.800000     0.000000     5.000000  2003.000000  \n",
              "25%          35.500000     401.450000     0.000000    40.000000  3469.000000  \n",
              "50%          70.350000    1397.475000     0.000000    61.000000  4527.000000  \n",
              "75%          89.850000    3794.737500     1.000000    75.000000  5380.500000  \n",
              "max         118.750000    8684.800000     1.000000   100.000000  6500.000000  "
            ],
            "text/html": [
              "\n",
              "  <div id=\"df-c33e8813-39b4-47ed-9dca-163d24b868a1\">\n",
              "    <div class=\"colab-df-container\">\n",
              "      <div>\n",
              "<style scoped>\n",
              "    .dataframe tbody tr th:only-of-type {\n",
              "        vertical-align: middle;\n",
              "    }\n",
              "\n",
              "    .dataframe tbody tr th {\n",
              "        vertical-align: top;\n",
              "    }\n",
              "\n",
              "    .dataframe thead th {\n",
              "        text-align: right;\n",
              "    }\n",
              "</style>\n",
              "<table border=\"1\" class=\"dataframe\">\n",
              "  <thead>\n",
              "    <tr style=\"text-align: right;\">\n",
              "      <th></th>\n",
              "      <th>Count</th>\n",
              "      <th>Zip Code</th>\n",
              "      <th>Latitude</th>\n",
              "      <th>Longitude</th>\n",
              "      <th>Tenure Months</th>\n",
              "      <th>Monthly Charges</th>\n",
              "      <th>Total Charges</th>\n",
              "      <th>Churn Value</th>\n",
              "      <th>Churn Score</th>\n",
              "      <th>CLTV</th>\n",
              "    </tr>\n",
              "  </thead>\n",
              "  <tbody>\n",
              "    <tr>\n",
              "      <th>count</th>\n",
              "      <td>7043.0</td>\n",
              "      <td>7043.000000</td>\n",
              "      <td>7043.000000</td>\n",
              "      <td>7043.000000</td>\n",
              "      <td>7043.000000</td>\n",
              "      <td>7043.000000</td>\n",
              "      <td>7032.000000</td>\n",
              "      <td>7043.000000</td>\n",
              "      <td>7043.000000</td>\n",
              "      <td>7043.000000</td>\n",
              "    </tr>\n",
              "    <tr>\n",
              "      <th>mean</th>\n",
              "      <td>1.0</td>\n",
              "      <td>93521.964646</td>\n",
              "      <td>36.282441</td>\n",
              "      <td>-119.798880</td>\n",
              "      <td>32.371149</td>\n",
              "      <td>64.761692</td>\n",
              "      <td>2283.300441</td>\n",
              "      <td>0.265370</td>\n",
              "      <td>58.699418</td>\n",
              "      <td>4400.295755</td>\n",
              "    </tr>\n",
              "    <tr>\n",
              "      <th>std</th>\n",
              "      <td>0.0</td>\n",
              "      <td>1865.794555</td>\n",
              "      <td>2.455723</td>\n",
              "      <td>2.157889</td>\n",
              "      <td>24.559481</td>\n",
              "      <td>30.090047</td>\n",
              "      <td>2266.771362</td>\n",
              "      <td>0.441561</td>\n",
              "      <td>21.525131</td>\n",
              "      <td>1183.057152</td>\n",
              "    </tr>\n",
              "    <tr>\n",
              "      <th>min</th>\n",
              "      <td>1.0</td>\n",
              "      <td>90001.000000</td>\n",
              "      <td>32.555828</td>\n",
              "      <td>-124.301372</td>\n",
              "      <td>0.000000</td>\n",
              "      <td>18.250000</td>\n",
              "      <td>18.800000</td>\n",
              "      <td>0.000000</td>\n",
              "      <td>5.000000</td>\n",
              "      <td>2003.000000</td>\n",
              "    </tr>\n",
              "    <tr>\n",
              "      <th>25%</th>\n",
              "      <td>1.0</td>\n",
              "      <td>92102.000000</td>\n",
              "      <td>34.030915</td>\n",
              "      <td>-121.815412</td>\n",
              "      <td>9.000000</td>\n",
              "      <td>35.500000</td>\n",
              "      <td>401.450000</td>\n",
              "      <td>0.000000</td>\n",
              "      <td>40.000000</td>\n",
              "      <td>3469.000000</td>\n",
              "    </tr>\n",
              "    <tr>\n",
              "      <th>50%</th>\n",
              "      <td>1.0</td>\n",
              "      <td>93552.000000</td>\n",
              "      <td>36.391777</td>\n",
              "      <td>-119.730885</td>\n",
              "      <td>29.000000</td>\n",
              "      <td>70.350000</td>\n",
              "      <td>1397.475000</td>\n",
              "      <td>0.000000</td>\n",
              "      <td>61.000000</td>\n",
              "      <td>4527.000000</td>\n",
              "    </tr>\n",
              "    <tr>\n",
              "      <th>75%</th>\n",
              "      <td>1.0</td>\n",
              "      <td>95351.000000</td>\n",
              "      <td>38.224869</td>\n",
              "      <td>-118.043237</td>\n",
              "      <td>55.000000</td>\n",
              "      <td>89.850000</td>\n",
              "      <td>3794.737500</td>\n",
              "      <td>1.000000</td>\n",
              "      <td>75.000000</td>\n",
              "      <td>5380.500000</td>\n",
              "    </tr>\n",
              "    <tr>\n",
              "      <th>max</th>\n",
              "      <td>1.0</td>\n",
              "      <td>96161.000000</td>\n",
              "      <td>41.962127</td>\n",
              "      <td>-114.192901</td>\n",
              "      <td>72.000000</td>\n",
              "      <td>118.750000</td>\n",
              "      <td>8684.800000</td>\n",
              "      <td>1.000000</td>\n",
              "      <td>100.000000</td>\n",
              "      <td>6500.000000</td>\n",
              "    </tr>\n",
              "  </tbody>\n",
              "</table>\n",
              "</div>\n",
              "      <button class=\"colab-df-convert\" onclick=\"convertToInteractive('df-c33e8813-39b4-47ed-9dca-163d24b868a1')\"\n",
              "              title=\"Convert this dataframe to an interactive table.\"\n",
              "              style=\"display:none;\">\n",
              "        \n",
              "  <svg xmlns=\"http://www.w3.org/2000/svg\" height=\"24px\"viewBox=\"0 0 24 24\"\n",
              "       width=\"24px\">\n",
              "    <path d=\"M0 0h24v24H0V0z\" fill=\"none\"/>\n",
              "    <path d=\"M18.56 5.44l.94 2.06.94-2.06 2.06-.94-2.06-.94-.94-2.06-.94 2.06-2.06.94zm-11 1L8.5 8.5l.94-2.06 2.06-.94-2.06-.94L8.5 2.5l-.94 2.06-2.06.94zm10 10l.94 2.06.94-2.06 2.06-.94-2.06-.94-.94-2.06-.94 2.06-2.06.94z\"/><path d=\"M17.41 7.96l-1.37-1.37c-.4-.4-.92-.59-1.43-.59-.52 0-1.04.2-1.43.59L10.3 9.45l-7.72 7.72c-.78.78-.78 2.05 0 2.83L4 21.41c.39.39.9.59 1.41.59.51 0 1.02-.2 1.41-.59l7.78-7.78 2.81-2.81c.8-.78.8-2.07 0-2.86zM5.41 20L4 18.59l7.72-7.72 1.47 1.35L5.41 20z\"/>\n",
              "  </svg>\n",
              "      </button>\n",
              "      \n",
              "  <style>\n",
              "    .colab-df-container {\n",
              "      display:flex;\n",
              "      flex-wrap:wrap;\n",
              "      gap: 12px;\n",
              "    }\n",
              "\n",
              "    .colab-df-convert {\n",
              "      background-color: #E8F0FE;\n",
              "      border: none;\n",
              "      border-radius: 50%;\n",
              "      cursor: pointer;\n",
              "      display: none;\n",
              "      fill: #1967D2;\n",
              "      height: 32px;\n",
              "      padding: 0 0 0 0;\n",
              "      width: 32px;\n",
              "    }\n",
              "\n",
              "    .colab-df-convert:hover {\n",
              "      background-color: #E2EBFA;\n",
              "      box-shadow: 0px 1px 2px rgba(60, 64, 67, 0.3), 0px 1px 3px 1px rgba(60, 64, 67, 0.15);\n",
              "      fill: #174EA6;\n",
              "    }\n",
              "\n",
              "    [theme=dark] .colab-df-convert {\n",
              "      background-color: #3B4455;\n",
              "      fill: #D2E3FC;\n",
              "    }\n",
              "\n",
              "    [theme=dark] .colab-df-convert:hover {\n",
              "      background-color: #434B5C;\n",
              "      box-shadow: 0px 1px 3px 1px rgba(0, 0, 0, 0.15);\n",
              "      filter: drop-shadow(0px 1px 2px rgba(0, 0, 0, 0.3));\n",
              "      fill: #FFFFFF;\n",
              "    }\n",
              "  </style>\n",
              "\n",
              "      <script>\n",
              "        const buttonEl =\n",
              "          document.querySelector('#df-c33e8813-39b4-47ed-9dca-163d24b868a1 button.colab-df-convert');\n",
              "        buttonEl.style.display =\n",
              "          google.colab.kernel.accessAllowed ? 'block' : 'none';\n",
              "\n",
              "        async function convertToInteractive(key) {\n",
              "          const element = document.querySelector('#df-c33e8813-39b4-47ed-9dca-163d24b868a1');\n",
              "          const dataTable =\n",
              "            await google.colab.kernel.invokeFunction('convertToInteractive',\n",
              "                                                     [key], {});\n",
              "          if (!dataTable) return;\n",
              "\n",
              "          const docLinkHtml = 'Like what you see? Visit the ' +\n",
              "            '<a target=\"_blank\" href=https://colab.research.google.com/notebooks/data_table.ipynb>data table notebook</a>'\n",
              "            + ' to learn more about interactive tables.';\n",
              "          element.innerHTML = '';\n",
              "          dataTable['output_type'] = 'display_data';\n",
              "          await google.colab.output.renderOutput(dataTable, element);\n",
              "          const docLink = document.createElement('div');\n",
              "          docLink.innerHTML = docLinkHtml;\n",
              "          element.appendChild(docLink);\n",
              "        }\n",
              "      </script>\n",
              "    </div>\n",
              "  </div>\n",
              "  "
            ]
          },
          "metadata": {},
          "execution_count": 8
        }
      ]
    },
    {
      "cell_type": "markdown",
      "source": [
        "I have used describe function as we had to apply all appropriate statistical measures. The 50% row is our IQR ie. Inter Quartile Range or Median of the data types. So, it has described mean, median,standard deviation as std, minimum and maximum which are our statistical measures. We can also find range for each column by subtracting it's min value from its max value."
      ],
      "metadata": {
        "id": "Nyn78_NsdH8u"
      }
    },
    {
      "cell_type": "code",
      "source": [
        "# to define categorical or Nominal features statistically, we will use:-\n",
        "\n",
        "df.describe(include=object)"
      ],
      "metadata": {
        "colab": {
          "base_uri": "https://localhost:8080/",
          "height": 320
        },
        "id": "vrEiNv8pi-Ug",
        "outputId": "6ca609b2-064c-4839-83d5-1e38b620fea3"
      },
      "execution_count": 14,
      "outputs": [
        {
          "output_type": "execute_result",
          "data": {
            "text/plain": [
              "        CustomerID   Count        Country       State         City  Zip Code  \\\n",
              "count         7043  7043.0           7043        7043         7043    7043.0   \n",
              "unique        7043     1.0              1           1         1129    1652.0   \n",
              "top     3668-QPYBK     1.0  United States  California  Los Angeles   90003.0   \n",
              "freq             1  7043.0           7043        7043          305       5.0   \n",
              "\n",
              "                      Lat Long Gender Senior Citizen Partner  ...  \\\n",
              "count                     7043   7043           7043    7043  ...   \n",
              "unique                    1652      2              2       2  ...   \n",
              "top     33.964131, -118.272783   Male             No      No  ...   \n",
              "freq                         5   3555           5901    3641  ...   \n",
              "\n",
              "       Device Protection Tech Support Streaming TV Streaming Movies  \\\n",
              "count               7043         7043         7043             7043   \n",
              "unique                 3            3            3                3   \n",
              "top                   No           No           No               No   \n",
              "freq                3095         3473         2810             2785   \n",
              "\n",
              "              Contract Paperless Billing    Payment Method Churn Label  \\\n",
              "count             7043              7043              7043        7043   \n",
              "unique               3                 2                 4           2   \n",
              "top     Month-to-month               Yes  Electronic check          No   \n",
              "freq              3875              4171              2365        5174   \n",
              "\n",
              "       Churn Value         Churn Reason  \n",
              "count       7043.0                 7043  \n",
              "unique         2.0                   21  \n",
              "top            0.0  No Reason Mentioned  \n",
              "freq        5174.0                 5174  \n",
              "\n",
              "[4 rows x 26 columns]"
            ],
            "text/html": [
              "\n",
              "  <div id=\"df-f9e8f541-f2fc-4c70-b2b0-fb7cd3906f7f\">\n",
              "    <div class=\"colab-df-container\">\n",
              "      <div>\n",
              "<style scoped>\n",
              "    .dataframe tbody tr th:only-of-type {\n",
              "        vertical-align: middle;\n",
              "    }\n",
              "\n",
              "    .dataframe tbody tr th {\n",
              "        vertical-align: top;\n",
              "    }\n",
              "\n",
              "    .dataframe thead th {\n",
              "        text-align: right;\n",
              "    }\n",
              "</style>\n",
              "<table border=\"1\" class=\"dataframe\">\n",
              "  <thead>\n",
              "    <tr style=\"text-align: right;\">\n",
              "      <th></th>\n",
              "      <th>CustomerID</th>\n",
              "      <th>Count</th>\n",
              "      <th>Country</th>\n",
              "      <th>State</th>\n",
              "      <th>City</th>\n",
              "      <th>Zip Code</th>\n",
              "      <th>Lat Long</th>\n",
              "      <th>Gender</th>\n",
              "      <th>Senior Citizen</th>\n",
              "      <th>Partner</th>\n",
              "      <th>...</th>\n",
              "      <th>Device Protection</th>\n",
              "      <th>Tech Support</th>\n",
              "      <th>Streaming TV</th>\n",
              "      <th>Streaming Movies</th>\n",
              "      <th>Contract</th>\n",
              "      <th>Paperless Billing</th>\n",
              "      <th>Payment Method</th>\n",
              "      <th>Churn Label</th>\n",
              "      <th>Churn Value</th>\n",
              "      <th>Churn Reason</th>\n",
              "    </tr>\n",
              "  </thead>\n",
              "  <tbody>\n",
              "    <tr>\n",
              "      <th>count</th>\n",
              "      <td>7043</td>\n",
              "      <td>7043.0</td>\n",
              "      <td>7043</td>\n",
              "      <td>7043</td>\n",
              "      <td>7043</td>\n",
              "      <td>7043.0</td>\n",
              "      <td>7043</td>\n",
              "      <td>7043</td>\n",
              "      <td>7043</td>\n",
              "      <td>7043</td>\n",
              "      <td>...</td>\n",
              "      <td>7043</td>\n",
              "      <td>7043</td>\n",
              "      <td>7043</td>\n",
              "      <td>7043</td>\n",
              "      <td>7043</td>\n",
              "      <td>7043</td>\n",
              "      <td>7043</td>\n",
              "      <td>7043</td>\n",
              "      <td>7043.0</td>\n",
              "      <td>7043</td>\n",
              "    </tr>\n",
              "    <tr>\n",
              "      <th>unique</th>\n",
              "      <td>7043</td>\n",
              "      <td>1.0</td>\n",
              "      <td>1</td>\n",
              "      <td>1</td>\n",
              "      <td>1129</td>\n",
              "      <td>1652.0</td>\n",
              "      <td>1652</td>\n",
              "      <td>2</td>\n",
              "      <td>2</td>\n",
              "      <td>2</td>\n",
              "      <td>...</td>\n",
              "      <td>3</td>\n",
              "      <td>3</td>\n",
              "      <td>3</td>\n",
              "      <td>3</td>\n",
              "      <td>3</td>\n",
              "      <td>2</td>\n",
              "      <td>4</td>\n",
              "      <td>2</td>\n",
              "      <td>2.0</td>\n",
              "      <td>21</td>\n",
              "    </tr>\n",
              "    <tr>\n",
              "      <th>top</th>\n",
              "      <td>3668-QPYBK</td>\n",
              "      <td>1.0</td>\n",
              "      <td>United States</td>\n",
              "      <td>California</td>\n",
              "      <td>Los Angeles</td>\n",
              "      <td>90003.0</td>\n",
              "      <td>33.964131, -118.272783</td>\n",
              "      <td>Male</td>\n",
              "      <td>No</td>\n",
              "      <td>No</td>\n",
              "      <td>...</td>\n",
              "      <td>No</td>\n",
              "      <td>No</td>\n",
              "      <td>No</td>\n",
              "      <td>No</td>\n",
              "      <td>Month-to-month</td>\n",
              "      <td>Yes</td>\n",
              "      <td>Electronic check</td>\n",
              "      <td>No</td>\n",
              "      <td>0.0</td>\n",
              "      <td>No Reason Mentioned</td>\n",
              "    </tr>\n",
              "    <tr>\n",
              "      <th>freq</th>\n",
              "      <td>1</td>\n",
              "      <td>7043.0</td>\n",
              "      <td>7043</td>\n",
              "      <td>7043</td>\n",
              "      <td>305</td>\n",
              "      <td>5.0</td>\n",
              "      <td>5</td>\n",
              "      <td>3555</td>\n",
              "      <td>5901</td>\n",
              "      <td>3641</td>\n",
              "      <td>...</td>\n",
              "      <td>3095</td>\n",
              "      <td>3473</td>\n",
              "      <td>2810</td>\n",
              "      <td>2785</td>\n",
              "      <td>3875</td>\n",
              "      <td>4171</td>\n",
              "      <td>2365</td>\n",
              "      <td>5174</td>\n",
              "      <td>5174.0</td>\n",
              "      <td>5174</td>\n",
              "    </tr>\n",
              "  </tbody>\n",
              "</table>\n",
              "<p>4 rows × 26 columns</p>\n",
              "</div>\n",
              "      <button class=\"colab-df-convert\" onclick=\"convertToInteractive('df-f9e8f541-f2fc-4c70-b2b0-fb7cd3906f7f')\"\n",
              "              title=\"Convert this dataframe to an interactive table.\"\n",
              "              style=\"display:none;\">\n",
              "        \n",
              "  <svg xmlns=\"http://www.w3.org/2000/svg\" height=\"24px\"viewBox=\"0 0 24 24\"\n",
              "       width=\"24px\">\n",
              "    <path d=\"M0 0h24v24H0V0z\" fill=\"none\"/>\n",
              "    <path d=\"M18.56 5.44l.94 2.06.94-2.06 2.06-.94-2.06-.94-.94-2.06-.94 2.06-2.06.94zm-11 1L8.5 8.5l.94-2.06 2.06-.94-2.06-.94L8.5 2.5l-.94 2.06-2.06.94zm10 10l.94 2.06.94-2.06 2.06-.94-2.06-.94-.94-2.06-.94 2.06-2.06.94z\"/><path d=\"M17.41 7.96l-1.37-1.37c-.4-.4-.92-.59-1.43-.59-.52 0-1.04.2-1.43.59L10.3 9.45l-7.72 7.72c-.78.78-.78 2.05 0 2.83L4 21.41c.39.39.9.59 1.41.59.51 0 1.02-.2 1.41-.59l7.78-7.78 2.81-2.81c.8-.78.8-2.07 0-2.86zM5.41 20L4 18.59l7.72-7.72 1.47 1.35L5.41 20z\"/>\n",
              "  </svg>\n",
              "      </button>\n",
              "      \n",
              "  <style>\n",
              "    .colab-df-container {\n",
              "      display:flex;\n",
              "      flex-wrap:wrap;\n",
              "      gap: 12px;\n",
              "    }\n",
              "\n",
              "    .colab-df-convert {\n",
              "      background-color: #E8F0FE;\n",
              "      border: none;\n",
              "      border-radius: 50%;\n",
              "      cursor: pointer;\n",
              "      display: none;\n",
              "      fill: #1967D2;\n",
              "      height: 32px;\n",
              "      padding: 0 0 0 0;\n",
              "      width: 32px;\n",
              "    }\n",
              "\n",
              "    .colab-df-convert:hover {\n",
              "      background-color: #E2EBFA;\n",
              "      box-shadow: 0px 1px 2px rgba(60, 64, 67, 0.3), 0px 1px 3px 1px rgba(60, 64, 67, 0.15);\n",
              "      fill: #174EA6;\n",
              "    }\n",
              "\n",
              "    [theme=dark] .colab-df-convert {\n",
              "      background-color: #3B4455;\n",
              "      fill: #D2E3FC;\n",
              "    }\n",
              "\n",
              "    [theme=dark] .colab-df-convert:hover {\n",
              "      background-color: #434B5C;\n",
              "      box-shadow: 0px 1px 3px 1px rgba(0, 0, 0, 0.15);\n",
              "      filter: drop-shadow(0px 1px 2px rgba(0, 0, 0, 0.3));\n",
              "      fill: #FFFFFF;\n",
              "    }\n",
              "  </style>\n",
              "\n",
              "      <script>\n",
              "        const buttonEl =\n",
              "          document.querySelector('#df-f9e8f541-f2fc-4c70-b2b0-fb7cd3906f7f button.colab-df-convert');\n",
              "        buttonEl.style.display =\n",
              "          google.colab.kernel.accessAllowed ? 'block' : 'none';\n",
              "\n",
              "        async function convertToInteractive(key) {\n",
              "          const element = document.querySelector('#df-f9e8f541-f2fc-4c70-b2b0-fb7cd3906f7f');\n",
              "          const dataTable =\n",
              "            await google.colab.kernel.invokeFunction('convertToInteractive',\n",
              "                                                     [key], {});\n",
              "          if (!dataTable) return;\n",
              "\n",
              "          const docLinkHtml = 'Like what you see? Visit the ' +\n",
              "            '<a target=\"_blank\" href=https://colab.research.google.com/notebooks/data_table.ipynb>data table notebook</a>'\n",
              "            + ' to learn more about interactive tables.';\n",
              "          element.innerHTML = '';\n",
              "          dataTable['output_type'] = 'display_data';\n",
              "          await google.colab.output.renderOutput(dataTable, element);\n",
              "          const docLink = document.createElement('div');\n",
              "          docLink.innerHTML = docLinkHtml;\n",
              "          element.appendChild(docLink);\n",
              "        }\n",
              "      </script>\n",
              "    </div>\n",
              "  </div>\n",
              "  "
            ]
          },
          "metadata": {},
          "execution_count": 14
        }
      ]
    },
    {
      "cell_type": "markdown",
      "source": [
        "**From the above code, we can analyse the total counts, number of unique values, top values(mode) and the frequency of the mode for all Nominal variables.**"
      ],
      "metadata": {
        "id": "pXsvneORjpDi"
      }
    },
    {
      "cell_type": "markdown",
      "source": [
        "**Q3: What is the percentage of females and senior citizens in this data set? Please create appropriate plots and explain the plots.**"
      ],
      "metadata": {
        "id": "mKiioVohemGA"
      }
    },
    {
      "cell_type": "code",
      "source": [
        "fig = plt.figure(figsize =(7, 5))\n",
        "sns.countplot(df['Gender'])\n",
        "df['Gender'].value_counts(normalize=True)*100\n"
      ],
      "metadata": {
        "colab": {
          "base_uri": "https://localhost:8080/",
          "height": 441
        },
        "id": "TksEKTpSek4G",
        "outputId": "6f025b74-6eb5-4c74-828d-b918d2e540ae"
      },
      "execution_count": 15,
      "outputs": [
        {
          "output_type": "stream",
          "name": "stderr",
          "text": [
            "/usr/local/lib/python3.7/dist-packages/seaborn/_decorators.py:43: FutureWarning: Pass the following variable as a keyword arg: x. From version 0.12, the only valid positional argument will be `data`, and passing other arguments without an explicit keyword will result in an error or misinterpretation.\n",
            "  FutureWarning\n"
          ]
        },
        {
          "output_type": "execute_result",
          "data": {
            "text/plain": [
              "Male      50.47565\n",
              "Female    49.52435\n",
              "Name: Gender, dtype: float64"
            ]
          },
          "metadata": {},
          "execution_count": 15
        },
        {
          "output_type": "display_data",
          "data": {
            "text/plain": [
              "<Figure size 504x360 with 1 Axes>"
            ],
            "image/png": "[encoded data removed]"
          },
          "metadata": {
            "needs_background": "light"
          }
        }
      ]
    },
    {
      "cell_type": "code",
      "source": [
        "fig = plt.figure(figsize =(7, 5))\n",
        "sns.countplot(df['Senior Citizen'])\n",
        "df['Senior Citizen'].value_counts(normalize=True)*100"
      ],
      "metadata": {
        "colab": {
          "base_uri": "https://localhost:8080/",
          "height": 441
        },
        "id": "9ZY5O6K6plab",
        "outputId": "7933ec8a-f7f1-4065-a4c6-bef7895a62b7"
      },
      "execution_count": 16,
      "outputs": [
        {
          "output_type": "stream",
          "name": "stderr",
          "text": [
            "/usr/local/lib/python3.7/dist-packages/seaborn/_decorators.py:43: FutureWarning: Pass the following variable as a keyword arg: x. From version 0.12, the only valid positional argument will be `data`, and passing other arguments without an explicit keyword will result in an error or misinterpretation.\n",
            "  FutureWarning\n"
          ]
        },
        {
          "output_type": "execute_result",
          "data": {
            "text/plain": [
              "No     83.785319\n",
              "Yes    16.214681\n",
              "Name: Senior Citizen, dtype: float64"
            ]
          },
          "metadata": {},
          "execution_count": 16
        },
        {
          "output_type": "display_data",
          "data": {
            "text/plain": [
              "<Figure size 504x360 with 1 Axes>"
            ],
            "image/png": "[encoded data removed]"
          },
          "metadata": {
            "needs_background": "light"
          }
        }
      ]
    },
    {
      "cell_type": "markdown",
      "source": [
        "From the first countplot for gender column, it is clear that **percentage of females is 49.52%**. The second countplot which is to identify the percentage of senior citizens in the dataset shows that the percentage of **senior citizen in this dataset is 16.21%.**"
      ],
      "metadata": {
        "id": "k2wlLNI8p5Eo"
      }
    },
    {
      "cell_type": "markdown",
      "source": [
        "**Q4: Please create an appropriate plot to examine the distribution of the tenure month column and explain the distribution. Based on distribution, perform appropriate statistical measures. Please also explain if the variable is symmetric or skewed. Please calculate it. Explain everything as asked.**"
      ],
      "metadata": {
        "id": "n6XQw8u5rANL"
      }
    },
    {
      "cell_type": "code",
      "source": [
        "sns.distplot(df['Tenure Months'])\n",
        "plt.axvline(x=np.mean(df['Tenure Months']),color='red',ls='--',label='mean')\n",
        "plt.axvline(x=np.median(df['Tenure Months']),color='orange',ls=':',label='median')\n",
        "plt.axvline(x=np.std(df['Tenure Months']),color='green',ls='-.',label='standard deviation')\n",
        "plt.legend()"
      ],
      "metadata": {
        "colab": {
          "base_uri": "https://localhost:8080/",
          "height": 351
        },
        "id": "NhCNArbxrOLf",
        "outputId": "6e9111de-e307-41f4-9293-f4fe55ac35d3"
      },
      "execution_count": 17,
      "outputs": [
        {
          "output_type": "stream",
          "name": "stderr",
          "text": [
            "/usr/local/lib/python3.7/dist-packages/seaborn/distributions.py:2619: FutureWarning: `distplot` is a deprecated function and will be removed in a future version. Please adapt your code to use either `displot` (a figure-level function with similar flexibility) or `histplot` (an axes-level function for histograms).\n",
            "  warnings.warn(msg, FutureWarning)\n"
          ]
        },
        {
          "output_type": "execute_result",
          "data": {
            "text/plain": [
              "<matplotlib.legend.Legend at 0x7f783e60e790>"
            ]
          },
          "metadata": {},
          "execution_count": 17
        },
        {
          "output_type": "display_data",
          "data": {
            "text/plain": [
              "<Figure size 432x288 with 1 Axes>"
            ],
            "image/png": "[encoded data removed]"
          },
          "metadata": {
            "needs_background": "light"
          }
        }
      ]
    },
    {
      "cell_type": "code",
      "source": [
        "mean=np.mean(df['Tenure Months'])\n",
        "mean\n"
      ],
      "metadata": {
        "colab": {
          "base_uri": "https://localhost:8080/"
        },
        "id": "LFSY9aujumQI",
        "outputId": "b0a4712b-0515-458b-802d-272d7a5e474a"
      },
      "execution_count": 18,
      "outputs": [
        {
          "output_type": "execute_result",
          "data": {
            "text/plain": [
              "32.37114865824223"
            ]
          },
          "metadata": {},
          "execution_count": 18
        }
      ]
    },
    {
      "cell_type": "code",
      "source": [
        "median=np.median(df['Tenure Months'])\n",
        "median"
      ],
      "metadata": {
        "colab": {
          "base_uri": "https://localhost:8080/"
        },
        "id": "5bK0HIHWvaot",
        "outputId": "bee1cca9-7853-4b45-cc82-7e574847cc8d"
      },
      "execution_count": 19,
      "outputs": [
        {
          "output_type": "execute_result",
          "data": {
            "text/plain": [
              "29.0"
            ]
          },
          "metadata": {},
          "execution_count": 19
        }
      ]
    },
    {
      "cell_type": "markdown",
      "source": [
        "I used density plot to examine the distribution of the tenure month column and found mean, median and standard deviation in the above plot. **From the plot and from the calculations for mean and median I have done after the plot, it is clear that the data is positively skewed(as mean>median).**"
      ],
      "metadata": {
        "id": "C8hHeVN6vrcJ"
      }
    },
    {
      "cell_type": "code",
      "source": [
        "skewness=round(df[\"Tenure Months\"].skew(),2)\n",
        "print(skewness)\n",
        "if skewness>0:\n",
        "  print(\"Tenure Months distribution is positively skewed\")\n",
        "else:\n",
        "    print(\"Tenure Months distribution is negatively skewed\")"
      ],
      "metadata": {
        "colab": {
          "base_uri": "https://localhost:8080/"
        },
        "id": "Zih3soQOlf4T",
        "outputId": "d23300cb-7b7b-4316-8f18-fc25200ed315"
      },
      "execution_count": 22,
      "outputs": [
        {
          "output_type": "stream",
          "name": "stdout",
          "text": [
            "0.24\n",
            "Tenure Months distribution is positively skewed\n"
          ]
        }
      ]
    },
    {
      "cell_type": "markdown",
      "source": [
        "**Q5:Please convert all binary columns into 0 and 1 using appropriate programming constructs, not one by one.**"
      ],
      "metadata": {
        "id": "yp994RENw9QK"
      }
    },
    {
      "cell_type": "code",
      "source": [
        "binary=[\"Gender\",\"Senior Citizen\",\"Partner\",\"Dependents\",\"Phone Service\",\"Paperless Billing\",\"Churn Label\"]\n",
        "for i in binary:\n",
        "  if df[i][0]==\"Yes\" or df[i][0]==\"No\":\n",
        "    df[i]=df[i].replace({'No':0,'Yes':1})\n",
        "  elif df[i][0]==\"Male\" or df[i][0]==\"Female\":\n",
        "      df[i]=df[i].replace({'Male':0,'Female':1})\n",
        "\n",
        "df.head(3)"
      ],
      "metadata": {
        "colab": {
          "base_uri": "https://localhost:8080/",
          "height": 324
        },
        "id": "2GJ8Q6uKtE9_",
        "outputId": "b5820491-a67a-4541-9404-aaddf74435e9"
      },
      "execution_count": 39,
      "outputs": [
        {
          "output_type": "execute_result",
          "data": {
            "text/plain": [
              "   CustomerID Count        Country       State         City Zip Code  \\\n",
              "0  3668-QPYBK   1.0  United States  California  Los Angeles  90003.0   \n",
              "1  9237-HQITU   1.0  United States  California  Los Angeles  90005.0   \n",
              "2  9305-CDSKC   1.0  United States  California  Los Angeles  90006.0   \n",
              "\n",
              "                 Lat Long   Latitude   Longitude  Gender  ...        Contract  \\\n",
              "0  33.964131, -118.272783  33.964131 -118.272783       0  ...  Month-to-month   \n",
              "1   34.059281, -118.30742  34.059281 -118.307420       1  ...  Month-to-month   \n",
              "2  34.048013, -118.293953  34.048013 -118.293953       1  ...  Month-to-month   \n",
              "\n",
              "   Paperless Billing    Payment Method  Monthly Charges  Total Charges  \\\n",
              "0                  1      Mailed check            53.85         108.15   \n",
              "1                  1  Electronic check            70.70         151.65   \n",
              "2                  1  Electronic check            99.65         820.50   \n",
              "\n",
              "  Churn Label Churn Value Churn Score    CLTV                  Churn Reason  \n",
              "0           1         1.0        86.0  3239.0  Competitor made better offer  \n",
              "1           1         1.0        67.0  2701.0                         Moved  \n",
              "2           1         1.0        86.0  5372.0                         Moved  \n",
              "\n",
              "[3 rows x 33 columns]"
            ],
            "text/html": [
              "\n",
              "  <div id=\"df-70bef25f-890a-4d7a-8daa-b4b866fff602\">\n",
              "    <div class=\"colab-df-container\">\n",
              "      <div>\n",
              "<style scoped>\n",
              "    .dataframe tbody tr th:only-of-type {\n",
              "        vertical-align: middle;\n",
              "    }\n",
              "\n",
              "    .dataframe tbody tr th {\n",
              "        vertical-align: top;\n",
              "    }\n",
              "\n",
              "    .dataframe thead th {\n",
              "        text-align: right;\n",
              "    }\n",
              "</style>\n",
              "<table border=\"1\" class=\"dataframe\">\n",
              "  <thead>\n",
              "    <tr style=\"text-align: right;\">\n",
              "      <th></th>\n",
              "      <th>CustomerID</th>\n",
              "      <th>Count</th>\n",
              "      <th>Country</th>\n",
              "      <th>State</th>\n",
              "      <th>City</th>\n",
              "      <th>Zip Code</th>\n",
              "      <th>Lat Long</th>\n",
              "      <th>Latitude</th>\n",
              "      <th>Longitude</th>\n",
              "      <th>Gender</th>\n",
              "      <th>...</th>\n",
              "      <th>Contract</th>\n",
              "      <th>Paperless Billing</th>\n",
              "      <th>Payment Method</th>\n",
              "      <th>Monthly Charges</th>\n",
              "      <th>Total Charges</th>\n",
              "      <th>Churn Label</th>\n",
              "      <th>Churn Value</th>\n",
              "      <th>Churn Score</th>\n",
              "      <th>CLTV</th>\n",
              "      <th>Churn Reason</th>\n",
              "    </tr>\n",
              "  </thead>\n",
              "  <tbody>\n",
              "    <tr>\n",
              "      <th>0</th>\n",
              "      <td>3668-QPYBK</td>\n",
              "      <td>1.0</td>\n",
              "      <td>United States</td>\n",
              "      <td>California</td>\n",
              "      <td>Los Angeles</td>\n",
              "      <td>90003.0</td>\n",
              "      <td>33.964131, -118.272783</td>\n",
              "      <td>33.964131</td>\n",
              "      <td>-118.272783</td>\n",
              "      <td>0</td>\n",
              "      <td>...</td>\n",
              "      <td>Month-to-month</td>\n",
              "      <td>1</td>\n",
              "      <td>Mailed check</td>\n",
              "      <td>53.85</td>\n",
              "      <td>108.15</td>\n",
              "      <td>1</td>\n",
              "      <td>1.0</td>\n",
              "      <td>86.0</td>\n",
              "      <td>3239.0</td>\n",
              "      <td>Competitor made better offer</td>\n",
              "    </tr>\n",
              "    <tr>\n",
              "      <th>1</th>\n",
              "      <td>9237-HQITU</td>\n",
              "      <td>1.0</td>\n",
              "      <td>United States</td>\n",
              "      <td>California</td>\n",
              "      <td>Los Angeles</td>\n",
              "      <td>90005.0</td>\n",
              "      <td>34.059281, -118.30742</td>\n",
              "      <td>34.059281</td>\n",
              "      <td>-118.307420</td>\n",
              "      <td>1</td>\n",
              "      <td>...</td>\n",
              "      <td>Month-to-month</td>\n",
              "      <td>1</td>\n",
              "      <td>Electronic check</td>\n",
              "      <td>70.70</td>\n",
              "      <td>151.65</td>\n",
              "      <td>1</td>\n",
              "      <td>1.0</td>\n",
              "      <td>67.0</td>\n",
              "      <td>2701.0</td>\n",
              "      <td>Moved</td>\n",
              "    </tr>\n",
              "    <tr>\n",
              "      <th>2</th>\n",
              "      <td>9305-CDSKC</td>\n",
              "      <td>1.0</td>\n",
              "      <td>United States</td>\n",
              "      <td>California</td>\n",
              "      <td>Los Angeles</td>\n",
              "      <td>90006.0</td>\n",
              "      <td>34.048013, -118.293953</td>\n",
              "      <td>34.048013</td>\n",
              "      <td>-118.293953</td>\n",
              "      <td>1</td>\n",
              "      <td>...</td>\n",
              "      <td>Month-to-month</td>\n",
              "      <td>1</td>\n",
              "      <td>Electronic check</td>\n",
              "      <td>99.65</td>\n",
              "      <td>820.50</td>\n",
              "      <td>1</td>\n",
              "      <td>1.0</td>\n",
              "      <td>86.0</td>\n",
              "      <td>5372.0</td>\n",
              "      <td>Moved</td>\n",
              "    </tr>\n",
              "  </tbody>\n",
              "</table>\n",
              "<p>3 rows × 33 columns</p>\n",
              "</div>\n",
              "      <button class=\"colab-df-convert\" onclick=\"convertToInteractive('df-70bef25f-890a-4d7a-8daa-b4b866fff602')\"\n",
              "              title=\"Convert this dataframe to an interactive table.\"\n",
              "              style=\"display:none;\">\n",
              "        \n",
              "  <svg xmlns=\"http://www.w3.org/2000/svg\" height=\"24px\"viewBox=\"0 0 24 24\"\n",
              "       width=\"24px\">\n",
              "    <path d=\"M0 0h24v24H0V0z\" fill=\"none\"/>\n",
              "    <path d=\"M18.56 5.44l.94 2.06.94-2.06 2.06-.94-2.06-.94-.94-2.06-.94 2.06-2.06.94zm-11 1L8.5 8.5l.94-2.06 2.06-.94-2.06-.94L8.5 2.5l-.94 2.06-2.06.94zm10 10l.94 2.06.94-2.06 2.06-.94-2.06-.94-.94-2.06-.94 2.06-2.06.94z\"/><path d=\"M17.41 7.96l-1.37-1.37c-.4-.4-.92-.59-1.43-.59-.52 0-1.04.2-1.43.59L10.3 9.45l-7.72 7.72c-.78.78-.78 2.05 0 2.83L4 21.41c.39.39.9.59 1.41.59.51 0 1.02-.2 1.41-.59l7.78-7.78 2.81-2.81c.8-.78.8-2.07 0-2.86zM5.41 20L4 18.59l7.72-7.72 1.47 1.35L5.41 20z\"/>\n",
              "  </svg>\n",
              "      </button>\n",
              "      \n",
              "  <style>\n",
              "    .colab-df-container {\n",
              "      display:flex;\n",
              "      flex-wrap:wrap;\n",
              "      gap: 12px;\n",
              "    }\n",
              "\n",
              "    .colab-df-convert {\n",
              "      background-color: #E8F0FE;\n",
              "      border: none;\n",
              "      border-radius: 50%;\n",
              "      cursor: pointer;\n",
              "      display: none;\n",
              "      fill: #1967D2;\n",
              "      height: 32px;\n",
              "      padding: 0 0 0 0;\n",
              "      width: 32px;\n",
              "    }\n",
              "\n",
              "    .colab-df-convert:hover {\n",
              "      background-color: #E2EBFA;\n",
              "      box-shadow: 0px 1px 2px rgba(60, 64, 67, 0.3), 0px 1px 3px 1px rgba(60, 64, 67, 0.15);\n",
              "      fill: #174EA6;\n",
              "    }\n",
              "\n",
              "    [theme=dark] .colab-df-convert {\n",
              "      background-color: #3B4455;\n",
              "      fill: #D2E3FC;\n",
              "    }\n",
              "\n",
              "    [theme=dark] .colab-df-convert:hover {\n",
              "      background-color: #434B5C;\n",
              "      box-shadow: 0px 1px 3px 1px rgba(0, 0, 0, 0.15);\n",
              "      filter: drop-shadow(0px 1px 2px rgba(0, 0, 0, 0.3));\n",
              "      fill: #FFFFFF;\n",
              "    }\n",
              "  </style>\n",
              "\n",
              "      <script>\n",
              "        const buttonEl =\n",
              "          document.querySelector('#df-70bef25f-890a-4d7a-8daa-b4b866fff602 button.colab-df-convert');\n",
              "        buttonEl.style.display =\n",
              "          google.colab.kernel.accessAllowed ? 'block' : 'none';\n",
              "\n",
              "        async function convertToInteractive(key) {\n",
              "          const element = document.querySelector('#df-70bef25f-890a-4d7a-8daa-b4b866fff602');\n",
              "          const dataTable =\n",
              "            await google.colab.kernel.invokeFunction('convertToInteractive',\n",
              "                                                     [key], {});\n",
              "          if (!dataTable) return;\n",
              "\n",
              "          const docLinkHtml = 'Like what you see? Visit the ' +\n",
              "            '<a target=\"_blank\" href=https://colab.research.google.com/notebooks/data_table.ipynb>data table notebook</a>'\n",
              "            + ' to learn more about interactive tables.';\n",
              "          element.innerHTML = '';\n",
              "          dataTable['output_type'] = 'display_data';\n",
              "          await google.colab.output.renderOutput(dataTable, element);\n",
              "          const docLink = document.createElement('div');\n",
              "          docLink.innerHTML = docLinkHtml;\n",
              "          element.appendChild(docLink);\n",
              "        }\n",
              "      </script>\n",
              "    </div>\n",
              "  </div>\n",
              "  "
            ]
          },
          "metadata": {},
          "execution_count": 39
        }
      ]
    },
    {
      "cell_type": "markdown",
      "source": [
        "**Q6:Please examine the distribution of monthly charges between males and females using box plots. Please explain the results also.**"
      ],
      "metadata": {
        "id": "JRvkzFtwrTH9"
      }
    },
    {
      "cell_type": "code",
      "source": [
        "# creating a box plot between Monthly Charges and Gender\n",
        "\n",
        "plt.figure(figsize=(6,6))\n",
        "plt.title(\"Gender wise Distribution of Monthly Charges\")\n",
        "sns.boxplot(x=df[\"Gender\"],y=df[\"Monthly Charges\"])"
      ],
      "metadata": {
        "colab": {
          "base_uri": "https://localhost:8080/",
          "height": 421
        },
        "id": "pJTyI9vUy17U",
        "outputId": "4d3896cc-8976-46f4-83b5-68c09f4245db"
      },
      "execution_count": 44,
      "outputs": [
        {
          "output_type": "execute_result",
          "data": {
            "text/plain": [
              "<matplotlib.axes._subplots.AxesSubplot at 0x7f78030e4590>"
            ]
          },
          "metadata": {},
          "execution_count": 44
        },
        {
          "output_type": "display_data",
          "data": {
            "text/plain": [
              "<Figure size 432x432 with 1 Axes>"
            ],
            "image/png": "[encoded data removed]"
          },
          "metadata": {
            "needs_background": "light"
          }
        }
      ]
    },
    {
      "cell_type": "markdown",
      "source": [
        "From the above plot it is clear that the distribution is negatively skewed which means there is a wide gap in the monthly charges paid by males and females. Although, the average of charges paid by them is equal. "
      ],
      "metadata": {
        "id": "I66YRIkYsQCd"
      }
    },
    {
      "cell_type": "markdown",
      "source": [
        "**Q7: Please find what is the minimum total charges for Los Angeles city. Please find which zip code has the maximum total charges.**"
      ],
      "metadata": {
        "id": "HRjiL6ZSvT6a"
      }
    },
    {
      "cell_type": "code",
      "source": [
        "min_TC=df.loc[df['City']==\"Los Angeles\", \"Total Charges\"].min()\n",
        "\n",
        "print(\"Minimum Total Charges for Los Angeles city are=\",min_TC)"
      ],
      "metadata": {
        "colab": {
          "base_uri": "https://localhost:8080/"
        },
        "id": "gD5h7GFMvc8q",
        "outputId": "0c88685e-e116-440d-f9d3-1cd91d410bb2"
      },
      "execution_count": 50,
      "outputs": [
        {
          "output_type": "stream",
          "name": "stdout",
          "text": [
            "Minimum Total Charges for Los Angeles city are= 18.8\n"
          ]
        }
      ]
    },
    {
      "cell_type": "code",
      "source": [
        "max_TC=df['Total Charges'].max()\n",
        "print(\"\\b Maximum Total Charges are:\",max_TC)\n",
        "\n",
        "max_zip= df.loc[df['Total Charges']==max_TC, \"Zip Code\"]\n",
        "\n",
        "print(\"\\b \\n Maximum Total Charges are of zip code=\", max_zip)"
      ],
      "metadata": {
        "colab": {
          "base_uri": "https://localhost:8080/"
        },
        "id": "NkFXhxJ11inu",
        "outputId": "988b9f33-5b67-404e-82f6-1dae0a212833"
      },
      "execution_count": 57,
      "outputs": [
        {
          "output_type": "stream",
          "name": "stdout",
          "text": [
            "\b Maximum Total Charges are: 8684.8\n",
            "\b \n",
            " Maximum Total Charges are of zip code= 1206    95519.0\n",
            "Name: Zip Code, dtype: object\n"
          ]
        }
      ]
    },
    {
      "cell_type": "markdown",
      "source": [
        "**Minimum Total charges for Los Angeles is 18.8.**\n",
        "\n",
        "\n",
        "**Zip code with maximum total charges is 95519.0.**"
      ],
      "metadata": {
        "id": "lE232R6O1PZV"
      }
    },
    {
      "cell_type": "markdown",
      "source": [
        "**Q8: Please find which payment method has the highest churn score and which has the lowest churn score.**"
      ],
      "metadata": {
        "id": "SQRb6X8x3afN"
      }
    },
    {
      "cell_type": "code",
      "source": [
        "fig = plt.figure(figsize=(15,10))\n",
        "plt.title(\"Distribution of Payment Methods based on their Churn Score\")\n",
        "sns.boxplot(x=df['Payment Method'],y=df['Churn Score'])"
      ],
      "metadata": {
        "colab": {
          "base_uri": "https://localhost:8080/",
          "height": 638
        },
        "id": "pdhrUTrp3jF3",
        "outputId": "90ca79b8-7f56-4152-b0c0-ec8886a17a65"
      },
      "execution_count": null,
      "outputs": [
        {
          "output_type": "execute_result",
          "data": {
            "text/plain": [
              "<matplotlib.axes._subplots.AxesSubplot at 0x7f36caac0710>"
            ]
          },
          "metadata": {},
          "execution_count": 62
        },
        {
          "output_type": "display_data",
          "data": {
            "text/plain": [
              "<Figure size 1080x720 with 1 Axes>"
            ],
            "image/png": "[encoded data removed]"
          },
          "metadata": {
            "needs_background": "light"
          }
        }
      ]
    },
    {
      "cell_type": "markdown",
      "source": [
        "The order of Payment methods usage is as following:-\n",
        "**Electronic check> Mailed check> Bank Transfer> Credit card.**\n",
        "\n",
        "\n",
        "**As, I have to find relationship between a categorical and numerical feature, I used box plot.**"
      ],
      "metadata": {
        "id": "UP5ADpBn4tn7"
      }
    },
    {
      "cell_type": "markdown",
      "source": [
        "**Q9:Please create an appropriate plot to check the count of payment methods and explain it.**"
      ],
      "metadata": {
        "id": "Hxr7Hwtb5Sxy"
      }
    },
    {
      "cell_type": "code",
      "source": [
        "fig = plt.figure(figsize=(12,7))\n",
        "plt.title(\"Count of Payment Methods based on Usage\")\n",
        "sns.countplot(df['Payment Method'])\n",
        "df['Payment Method'].value_counts()"
      ],
      "metadata": {
        "colab": {
          "base_uri": "https://localhost:8080/",
          "height": 599
        },
        "id": "qlcGpGIH5ZaO",
        "outputId": "000af759-8902-404a-b720-34ed8f30e68d"
      },
      "execution_count": null,
      "outputs": [
        {
          "output_type": "stream",
          "name": "stderr",
          "text": [
            "/usr/local/lib/python3.7/dist-packages/seaborn/_decorators.py:43: FutureWarning: Pass the following variable as a keyword arg: x. From version 0.12, the only valid positional argument will be `data`, and passing other arguments without an explicit keyword will result in an error or misinterpretation.\n",
            "  FutureWarning\n"
          ]
        },
        {
          "output_type": "execute_result",
          "data": {
            "text/plain": [
              "Electronic check             2365\n",
              "Mailed check                 1612\n",
              "Bank transfer (automatic)    1544\n",
              "Credit card (automatic)      1522\n",
              "Name: Payment Method, dtype: int64"
            ]
          },
          "metadata": {},
          "execution_count": 64
        },
        {
          "output_type": "display_data",
          "data": {
            "text/plain": [
              "<Figure size 864x504 with 1 Axes>"
            ],
            "image/png": "[encoded data removed]"
          },
          "metadata": {
            "needs_background": "light"
          }
        }
      ]
    },
    {
      "cell_type": "markdown",
      "source": [
        "The above countplot clearly explains the count of payment methods used which is as following:-\n",
        "\n",
        "\n",
        "**Electronic check -  2365**\n",
        "\n",
        "**Mailed check     -  1612**\n",
        "\n",
        "**Bank transfer (automatic)-  1544**\n",
        "\n",
        "**Credit card (automatic)-      1522** \n",
        "\n",
        "\n",
        "**It is clear that Electronic check is widely used.**"
      ],
      "metadata": {
        "id": "xP9NZ7mf5-e2"
      }
    },
    {
      "cell_type": "markdown",
      "source": [
        "**Q10: Please create an appropriate plot to see the relationship between monthly charges and total charges.**"
      ],
      "metadata": {
        "id": "YbIv9vVl6XMS"
      }
    },
    {
      "cell_type": "code",
      "source": [
        "plt.title(\"Relationship between monthly charges and total charges\")\n",
        "sns.scatterplot(x='Monthly Charges', y= 'Total Charges', data = df)\n",
        "  \n",
        "# To show the plot\n",
        "plt.show()"
      ],
      "metadata": {
        "colab": {
          "base_uri": "https://localhost:8080/",
          "height": 706
        },
        "id": "29EVfUzU6eyV",
        "outputId": "4f6c62ed-2805-45a8-d4a0-6a4464d2a1a0"
      },
      "execution_count": null,
      "outputs": [
        {
          "output_type": "display_data",
          "data": {
            "text/plain": [
              "<Figure size 1000x800 with 1 Axes>"
            ],
            "image/png": "[encoded data removed]"
          },
          "metadata": {
            "needs_background": "light"
          }
        }
      ]
    },
    {
      "cell_type": "markdown",
      "source": [
        "**As for the above question I have to find relationship between two numerical values thus, I used scatter plot**. From the above scatter plot, we can see that the two columns possess positive relationship which means with increase in Monthly Charges, total charges are also increasing. "
      ],
      "metadata": {
        "id": "qSX1HbX9Cv8v"
      }
    }
  ]
}
